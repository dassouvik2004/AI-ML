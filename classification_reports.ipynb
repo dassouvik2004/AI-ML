{
  "nbformat": 4,
  "nbformat_minor": 0,
  "metadata": {
    "colab": {
      "provenance": [],
      "authorship_tag": "ABX9TyPPwn939OXinuJRWaeBySwN",
      "include_colab_link": true
    },
    "kernelspec": {
      "name": "python3",
      "display_name": "Python 3"
    },
    "language_info": {
      "name": "python"
    }
  },
  "cells": [
    {
      "cell_type": "markdown",
      "metadata": {
        "id": "view-in-github",
        "colab_type": "text"
      },
      "source": [
        "<a href=\"https://colab.research.google.com/github/dassouvik2004/AI-ML/blob/main/classification_reports.ipynb\" target=\"_parent\"><img src=\"https://colab.research.google.com/assets/colab-badge.svg\" alt=\"Open In Colab\"/></a>"
      ]
    },
    {
      "cell_type": "markdown",
      "source": [
        "# Classification Report for Iris Dataset:"
      ],
      "metadata": {
        "id": "x8jrTephHSfr"
      }
    },
    {
      "cell_type": "code",
      "execution_count": 24,
      "metadata": {
        "id": "m4Y71cVlFijA"
      },
      "outputs": [],
      "source": [
        "from sklearn.datasets import load_iris\n",
        "from sklearn.model_selection import train_test_split\n",
        "from sklearn.tree import DecisionTreeClassifier\n",
        "from sklearn.metrics import accuracy_score, classification_report"
      ]
    },
    {
      "cell_type": "code",
      "source": [
        "iris = load_iris()\n",
        "X,y = iris.data, iris.target\n",
        "\n",
        "# Split Data\n",
        "X_train,X_test, y_train, y_test = train_test_split(X,y, test_size=0.3, random_state=42)\n",
        "\n",
        "# Train Model\n",
        "model = DecisionTreeClassifier(random_state=42)\n",
        "model.fit(X_train,y_train)\n",
        "\n",
        "# Predict and evaluate\n",
        "y_pred = model.predict(X_test)\n",
        "\n",
        "print(\"Accuracy: \", accuracy_score(y_test,y_pred))\n",
        "print(\"\\nClassification Report: \\n\")\n",
        "print(classification_report(y_test,y_pred,target_names=iris.target_names))"
      ],
      "metadata": {
        "colab": {
          "base_uri": "https://localhost:8080/"
        },
        "id": "wI5T3-uSFnN4",
        "outputId": "f83613f3-3ec0-4ec0-9faf-ffd57393af3e"
      },
      "execution_count": 25,
      "outputs": [
        {
          "output_type": "stream",
          "name": "stdout",
          "text": [
            "Accuracy:  1.0\n",
            "\n",
            "Classification Report: \n",
            "\n",
            "              precision    recall  f1-score   support\n",
            "\n",
            "      setosa       1.00      1.00      1.00        19\n",
            "  versicolor       1.00      1.00      1.00        13\n",
            "   virginica       1.00      1.00      1.00        13\n",
            "\n",
            "    accuracy                           1.00        45\n",
            "   macro avg       1.00      1.00      1.00        45\n",
            "weighted avg       1.00      1.00      1.00        45\n",
            "\n"
          ]
        }
      ]
    },
    {
      "cell_type": "markdown",
      "source": [
        "# Model Deployment:"
      ],
      "metadata": {
        "id": "5L0k6No9HbxS"
      }
    },
    {
      "cell_type": "code",
      "source": [
        "import joblib\n",
        "\n",
        "# save\n",
        "joblib.dump(model, \"iris_model.pkl\")\n",
        "\n",
        "# Load\n",
        "loaded_model = joblib.load(\"iris_model.pkl\")\n",
        "sample = X_test[0].reshape(1, -1)\n",
        "print(\"Deployed Model Prediction\",iris.target_names[loaded_model.predict(sample)][0])"
      ],
      "metadata": {
        "colab": {
          "base_uri": "https://localhost:8080/"
        },
        "id": "lzRTUxgeHfXD",
        "outputId": "8658e574-5097-4a4f-a671-ad1692d15298"
      },
      "execution_count": 26,
      "outputs": [
        {
          "output_type": "stream",
          "name": "stdout",
          "text": [
            "Deployed Model Prediction versicolor\n"
          ]
        }
      ]
    },
    {
      "cell_type": "markdown",
      "source": [
        "# Monitoring the Model:"
      ],
      "metadata": {
        "id": "e_KfiQYWIY0I"
      }
    },
    {
      "cell_type": "code",
      "source": [
        "import pandas as pd\n",
        "\n",
        "# Simulated \"incoming data stream\"\n",
        "monitor_preds = loaded_model.predict(X_test)\n",
        "\n",
        "monitor_df = pd.DataFrame({'predictions': monitor_preds})\n",
        "print(monitor_df['predictions'].value_counts(normalize=True))"
      ],
      "metadata": {
        "colab": {
          "base_uri": "https://localhost:8080/"
        },
        "id": "SbnMrLqRIfmd",
        "outputId": "fea26179-53a1-4af3-a1f7-4840f880bf97"
      },
      "execution_count": 27,
      "outputs": [
        {
          "output_type": "stream",
          "name": "stdout",
          "text": [
            "predictions\n",
            "0    0.422222\n",
            "1    0.288889\n",
            "2    0.288889\n",
            "Name: proportion, dtype: float64\n"
          ]
        }
      ]
    }
  ]
}