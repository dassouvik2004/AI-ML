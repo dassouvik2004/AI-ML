{
  "nbformat": 4,
  "nbformat_minor": 0,
  "metadata": {
    "colab": {
      "provenance": [],
      "authorship_tag": "ABX9TyOjN4Jjr5vR9aP5egdAGhJ9"
    },
    "kernelspec": {
      "name": "python3",
      "display_name": "Python 3"
    },
    "language_info": {
      "name": "python"
    }
  },
  "cells": [
    {
      "cell_type": "code",
      "execution_count": 1,
      "metadata": {
        "id": "nj9-EVrTL0Cy"
      },
      "outputs": [],
      "source": [
        "import pandas as pd\n",
        "from sklearn.datasets import load_iris\n",
        "from sklearn.model_selection import train_test_split\n",
        "from sklearn.tree import DecisionTreeClassifier\n",
        "from sklearn.metrics import accuracy_score"
      ]
    },
    {
      "cell_type": "code",
      "source": [
        "# Load dataset\n",
        "iris = load_iris()\n",
        "X,y = iris.data, iris.target\n",
        "\n",
        "\n",
        "# Create DataFrame\n",
        "df = pd.DataFrame(X, columns=iris.feature_names)\n",
        "df['target'] = y\n",
        "\n",
        "print(df.head(10))"
      ],
      "metadata": {
        "colab": {
          "base_uri": "https://localhost:8080/"
        },
        "id": "ImS3vQJfMbUl",
        "outputId": "7a8b9742-f9a7-4233-886b-e42654f89054"
      },
      "execution_count": 2,
      "outputs": [
        {
          "output_type": "stream",
          "name": "stdout",
          "text": [
            "   sepal length (cm)  sepal width (cm)  petal length (cm)  petal width (cm)  \\\n",
            "0                5.1               3.5                1.4               0.2   \n",
            "1                4.9               3.0                1.4               0.2   \n",
            "2                4.7               3.2                1.3               0.2   \n",
            "3                4.6               3.1                1.5               0.2   \n",
            "4                5.0               3.6                1.4               0.2   \n",
            "5                5.4               3.9                1.7               0.4   \n",
            "6                4.6               3.4                1.4               0.3   \n",
            "7                5.0               3.4                1.5               0.2   \n",
            "8                4.4               2.9                1.4               0.2   \n",
            "9                4.9               3.1                1.5               0.1   \n",
            "\n",
            "   target  \n",
            "0       0  \n",
            "1       0  \n",
            "2       0  \n",
            "3       0  \n",
            "4       0  \n",
            "5       0  \n",
            "6       0  \n",
            "7       0  \n",
            "8       0  \n",
            "9       0  \n"
          ]
        }
      ]
    },
    {
      "cell_type": "code",
      "source": [
        "# Split data\n",
        "X_train, X_test, y_train, y_test = train_test_split(X,y,test_size=0.3, random_state=42)\n",
        "\n",
        "# Train model\n",
        "model = DecisionTreeClassifier()\n",
        "model.fit(X_train,y_train)\n",
        "\n",
        "# Predict and evaluate\n",
        "y_pred = model.predict(X_test)\n",
        "print(\"Accuracy: \", accuracy_score(y_test, y_pred))\n",
        "\n",
        "print(\"\\nActual vs Predicted Flower Names:\\n\")\n",
        "for actual, predicted in zip(y_test, y_pred):\n",
        "    actual_name = iris.target_names[actual]       # e.g., 'setosa'\n",
        "    predicted_name = iris.target_names[predicted] # e.g., 'virginica'\n",
        "    print(f\"Actual: {actual_name:10} → Predicted: {predicted_name}\")"
      ],
      "metadata": {
        "colab": {
          "base_uri": "https://localhost:8080/"
        },
        "id": "W11J6Of0OEyZ",
        "outputId": "f3468778-cb4a-4c32-ac2a-9c1c4f98cbe4"
      },
      "execution_count": 3,
      "outputs": [
        {
          "output_type": "stream",
          "name": "stdout",
          "text": [
            "Accuracy:  1.0\n",
            "\n",
            "Actual vs Predicted Flower Names:\n",
            "\n",
            "Actual: versicolor → Predicted: versicolor\n",
            "Actual: setosa     → Predicted: setosa\n",
            "Actual: virginica  → Predicted: virginica\n",
            "Actual: versicolor → Predicted: versicolor\n",
            "Actual: versicolor → Predicted: versicolor\n",
            "Actual: setosa     → Predicted: setosa\n",
            "Actual: versicolor → Predicted: versicolor\n",
            "Actual: virginica  → Predicted: virginica\n",
            "Actual: versicolor → Predicted: versicolor\n",
            "Actual: versicolor → Predicted: versicolor\n",
            "Actual: virginica  → Predicted: virginica\n",
            "Actual: setosa     → Predicted: setosa\n",
            "Actual: setosa     → Predicted: setosa\n",
            "Actual: setosa     → Predicted: setosa\n",
            "Actual: setosa     → Predicted: setosa\n",
            "Actual: versicolor → Predicted: versicolor\n",
            "Actual: virginica  → Predicted: virginica\n",
            "Actual: versicolor → Predicted: versicolor\n",
            "Actual: versicolor → Predicted: versicolor\n",
            "Actual: virginica  → Predicted: virginica\n",
            "Actual: setosa     → Predicted: setosa\n",
            "Actual: virginica  → Predicted: virginica\n",
            "Actual: setosa     → Predicted: setosa\n",
            "Actual: virginica  → Predicted: virginica\n",
            "Actual: virginica  → Predicted: virginica\n",
            "Actual: virginica  → Predicted: virginica\n",
            "Actual: virginica  → Predicted: virginica\n",
            "Actual: virginica  → Predicted: virginica\n",
            "Actual: setosa     → Predicted: setosa\n",
            "Actual: setosa     → Predicted: setosa\n",
            "Actual: setosa     → Predicted: setosa\n",
            "Actual: setosa     → Predicted: setosa\n",
            "Actual: versicolor → Predicted: versicolor\n",
            "Actual: setosa     → Predicted: setosa\n",
            "Actual: setosa     → Predicted: setosa\n",
            "Actual: virginica  → Predicted: virginica\n",
            "Actual: versicolor → Predicted: versicolor\n",
            "Actual: setosa     → Predicted: setosa\n",
            "Actual: setosa     → Predicted: setosa\n",
            "Actual: setosa     → Predicted: setosa\n",
            "Actual: virginica  → Predicted: virginica\n",
            "Actual: versicolor → Predicted: versicolor\n",
            "Actual: versicolor → Predicted: versicolor\n",
            "Actual: setosa     → Predicted: setosa\n",
            "Actual: setosa     → Predicted: setosa\n"
          ]
        }
      ]
    }
  ]
}