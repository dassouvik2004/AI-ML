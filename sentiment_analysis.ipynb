{
  "nbformat": 4,
  "nbformat_minor": 0,
  "metadata": {
    "colab": {
      "provenance": [],
      "authorship_tag": "ABX9TyPfUgggUtUJQXwV0vUrrNzY"
    },
    "kernelspec": {
      "name": "python3",
      "display_name": "Python 3"
    },
    "language_info": {
      "name": "python"
    }
  },
  "cells": [
    {
      "cell_type": "code",
      "execution_count": 37,
      "metadata": {
        "id": "mVxbQsb3f21K"
      },
      "outputs": [],
      "source": [
        "from transformers import pipeline"
      ]
    },
    {
      "cell_type": "code",
      "source": [
        "sentimental_analyzer = pipeline(\"sentiment-analysis\")"
      ],
      "metadata": {
        "colab": {
          "base_uri": "https://localhost:8080/"
        },
        "id": "AVSci44tgQJ4",
        "outputId": "2dd9e721-afe6-4f78-eee1-6fac64de8fe5"
      },
      "execution_count": 38,
      "outputs": [
        {
          "output_type": "stream",
          "name": "stderr",
          "text": [
            "No model was supplied, defaulted to distilbert/distilbert-base-uncased-finetuned-sst-2-english and revision 714eb0f (https://huggingface.co/distilbert/distilbert-base-uncased-finetuned-sst-2-english).\n",
            "Using a pipeline without specifying a model name and revision in production is not recommended.\n",
            "Device set to use cpu\n"
          ]
        }
      ]
    },
    {
      "cell_type": "code",
      "source": [
        "texts = [\"I love this product\", \"I hate you\"]\n",
        "\n",
        "for text in texts:\n",
        "     result = sentimental_analyzer(text)[0]\n",
        "     print(f\"Text: {text}, Sentiment: {result['label']}, Score: {result['score']:.2f}\")"
      ],
      "metadata": {
        "colab": {
          "base_uri": "https://localhost:8080/"
        },
        "id": "7WXINe-RgS7e",
        "outputId": "3cb93ab3-b591-4e85-c94b-e5c87b5655b7"
      },
      "execution_count": 39,
      "outputs": [
        {
          "output_type": "stream",
          "name": "stdout",
          "text": [
            "Text: I love this product, Sentiment: POSITIVE, Score: 1.00\n",
            "Text: I hate you, Sentiment: NEGATIVE, Score: 1.00\n"
          ]
        }
      ]
    }
  ]
}